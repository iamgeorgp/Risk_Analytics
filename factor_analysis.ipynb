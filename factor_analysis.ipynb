{
 "cells": [
  {
   "cell_type": "code",
   "execution_count": 28,
   "metadata": {},
   "outputs": [],
   "source": [
    "import pandas as pd\n",
    "from sklearn.preprocessing import StandardScaler\n",
    "from sklearn.decomposition import PCA"
   ]
  },
  {
   "cell_type": "code",
   "execution_count": 29,
   "metadata": {},
   "outputs": [],
   "source": [
    "part1=pd.read_csv('portfolio1.csv')\n",
    "part2=pd.read_csv('portfolio2.csv')"
   ]
  },
  {
   "cell_type": "code",
   "execution_count": 30,
   "metadata": {},
   "outputs": [
    {
     "name": "stdout",
     "output_type": "stream",
     "text": [
      "Компоненты (факторы):\n",
      "[[ 0.70710678  0.70710678]\n",
      " [-0.70710678  0.70710678]]\n",
      "Объясненная дисперсия:\n",
      "[0.98459832 0.01540168]\n"
     ]
    }
   ],
   "source": [
    "df=part1.merge(part2, on='Номер договора', how='outer')\n",
    "df = df.fillna(0)\n",
    "# Выбираем колонки с данными о долгах на май и июнь\n",
    "may_data = df['ОД на конец мая'].values.reshape(-1, 1)\n",
    "june_data = df['ОД на конец июня'].values.reshape(-1, 1)\n",
    "\n",
    "# Используем StandardScaler для стандартизации данных\n",
    "scaler = StandardScaler()\n",
    "may_standardized = scaler.fit_transform(may_data)\n",
    "june_standardized = scaler.fit_transform(june_data)\n",
    "\n",
    "# Заменяем соответствующие колонки в DataFrame на стандартизированные данные\n",
    "df['ОД на конец мая'] = may_standardized\n",
    "df['ОД на конец июня'] = june_standardized\n",
    "\n",
    "# Выбираем колонки с данными о долгах на май и июнь\n",
    "X = df[['ОД на конец мая', 'ОД на конец июня']]\n",
    "\n",
    "# Проводим факторный анализ с использованием метода главных компонент\n",
    "pca = PCA(n_components=2)\n",
    "pca.fit(X)\n",
    "\n",
    "# Получаем компоненты\n",
    "components = pca.components_\n",
    "print(f\"Компоненты (факторы):\\n{components}\")\n",
    "\n",
    "# Получаем объясненную дисперсию\n",
    "explained_variance = pca.explained_variance_ratio_\n",
    "print(f\"Объясненная дисперсия:\\n{explained_variance}\")"
   ]
  }
 ],
 "metadata": {
  "kernelspec": {
   "display_name": "base",
   "language": "python",
   "name": "python3"
  },
  "language_info": {
   "codemirror_mode": {
    "name": "ipython",
    "version": 3
   },
   "file_extension": ".py",
   "mimetype": "text/x-python",
   "name": "python",
   "nbconvert_exporter": "python",
   "pygments_lexer": "ipython3",
   "version": "3.11.5"
  }
 },
 "nbformat": 4,
 "nbformat_minor": 2
}
